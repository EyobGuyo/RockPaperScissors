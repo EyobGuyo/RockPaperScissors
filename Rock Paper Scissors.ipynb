{
 "cells": [
  {
   "cell_type": "code",
   "execution_count": null,
   "id": "a2db49a7",
   "metadata": {},
   "outputs": [],
   "source": [
    "Create a program where the user can play a game of rock, paper, scissors against a computer. Set a play choice \n",
    "(rock, paper, or scissors) for the computer player and during the program, request for the user to input their play choice.\n",
    "\n",
    "The rules in Rock, Paper, Scissors are:\n",
    "\n",
    "Rock beats scissors\n",
    "Scissors beats paper\n",
    "Paper beats rock\n",
    "If the user wins, then display \"You win!\" If they lose against the computer, then display \"You lose.\" \n",
    "If the computer and the user have the same play choice, display \"It's a draw.\"\n",
    "\n",
    "BONUS: Randomize the play choice for the computer (hint: Python has a library called random). \n",
    "    Also ask the user if they would like to play again. If they do, start the game again but if not, \n",
    "    thank the user for playing the game."
   ]
  },
  {
   "cell_type": "code",
   "execution_count": 3,
   "id": "a45e295e",
   "metadata": {},
   "outputs": [
    {
     "name": "stdout",
     "output_type": "stream",
     "text": [
      "please select from Rock, Paper, Scissors: enter 'exit' to quit: Rock\n",
      "It's Drow!\n",
      "please select from Rock, Paper, Scissors: enter 'exit' to quit: Paper\n",
      "It's Drow!\n",
      "please select from Rock, Paper, Scissors: enter 'exit' to quit: Paper\n",
      "It's Drow!\n",
      "please select from Rock, Paper, Scissors: enter 'exit' to quit: Paper\n",
      "You lose!\n",
      "please select from Rock, Paper, Scissors: enter 'exit' to quit: exit\n"
     ]
    }
   ],
   "source": [
    "#Rock, Paper, Scissors\n",
    "mylist = [\"Rock\",\"Paper\",\"Scissors\"]\n",
    "\n",
    "import random as rand\n",
    "play = True\n",
    "\n",
    "while play:\n",
    "    computer = mylist[rand.randint(0,2)]\n",
    "    guess = input(\"please select from Rock, Paper, Scissors: enter 'exit' to quit: \")\n",
    "    \n",
    "    if guess == 'exit':\n",
    "        break\n",
    "#-------------------------------------------------------------------    \n",
    "    elif guess == 'Rock' and computer == 'Rock':\n",
    "        print(\"It's Drow!\")\n",
    "    elif guess == 'Rock' and computer == 'Scissors':\n",
    "        print(\"You win!\")\n",
    "    elif guess == 'Rock' and computer == 'Paper':\n",
    "        print(\"You lose!\")\n",
    "#-------------------------------------------------------------------\n",
    "    elif guess == 'Paper' and computer == 'Paper':\n",
    "        print(\"It's Drow!\")\n",
    "    elif guess == 'Paper' and computer == 'Scissors':\n",
    "        print(\"You win!\")\n",
    "    elif guess == 'Paper' and computer == 'Rock':\n",
    "        print(\"You lose!\")\n",
    "#-------------------------------------------------------------------\n",
    "    elif guess == 'Scissors' and computer == 'Scissors':\n",
    "        print(\"It's Drow!\")\n",
    "    elif guess == 'Scissors' and computer == 'Paper':\n",
    "            print(\"You win!\")\n",
    "    elif guess == 'Scissors' and computer == 'Rock':\n",
    "            print(\"You lose!\")\n",
    "#-------------------------------------------------------------------\n",
    "    else:\n",
    "        print(computer)\n",
    "        break"
   ]
  },
  {
   "cell_type": "code",
   "execution_count": null,
   "id": "def56935",
   "metadata": {},
   "outputs": [],
   "source": []
  }
 ],
 "metadata": {
  "kernelspec": {
   "display_name": "Python 3 (ipykernel)",
   "language": "python",
   "name": "python3"
  },
  "language_info": {
   "codemirror_mode": {
    "name": "ipython",
    "version": 3
   },
   "file_extension": ".py",
   "mimetype": "text/x-python",
   "name": "python",
   "nbconvert_exporter": "python",
   "pygments_lexer": "ipython3",
   "version": "3.9.12"
  }
 },
 "nbformat": 4,
 "nbformat_minor": 5
}
